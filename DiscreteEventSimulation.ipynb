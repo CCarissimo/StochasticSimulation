{
 "cells": [
  {
   "cell_type": "code",
   "execution_count": 1,
   "metadata": {
    "collapsed": true
   },
   "outputs": [],
   "source": [
    "import numpy as np\n",
    "import simpy \n",
    "import matplotlib.pyplot as plt\n",
    "import random\n",
    "from __future__ import division \n",
    "import time\n",
    "import scipy \n",
    "from scipy import stats\n",
    "import pandas as pd\n",
    "import math"
   ]
  },
  {
   "cell_type": "markdown",
   "metadata": {},
   "source": [
    "<h2> Discrete Event simulations using Simpy </h2>\n",
    "<p> So what does simpy allow us to do that is useful for DES? Simpy allows us to create a system, of functions, that will behave according to a set of rules. The defining behaviour of this system with respect to other systems is that processes occurr based on the availability of resources, and based on elapsed time from the last initiation of the current process. The system is comprised of users, and resources. The resources can also be called servers. Users will arrive into the system at a rate G where they want to access a server. They will be serviced by the servers at another rate M. After they are serviced the users leave the system and the server they leave is now able to service another user. Depending on the rate at which users are introduced into the system and the rate at which users are serviced there will be an identifiable number of users in the system at a time T. </p>"
   ]
  },
  {
   "cell_type": "code",
   "execution_count": 2,
   "metadata": {
    "collapsed": true
   },
   "outputs": [],
   "source": [
    "\n",
    "class CallCenter(object):\n",
    "    def __init__(self, env, num_employees):\n",
    "        self.env = env\n",
    "        self.employee = simpy.PriorityResource(env, num_employees)\n",
    "        \n",
    "    def service(self, customer, calltime):\n",
    "        #calltime = np.random.exponential(service_rate)\n",
    "        yield self.env.timeout(calltime)\n",
    "\n",
    "        \n",
    "def caller(env, name, cc, data):\n",
    "    arrival_time = env.now\n",
    "    \n",
    "    if use_longtail == True:\n",
    "        RANDOM = np.random.random()\n",
    "        if RANDOM < 0.75:\n",
    "            calltime = np.random.exponential(1)\n",
    "        else:\n",
    "            calltime = np.random.exponential(5)\n",
    "            \n",
    "    elif use_deterministic == True:\n",
    "        calltime = 1\n",
    "    \n",
    "    else:\n",
    "        calltime = np.random.exponential(service_rate)\n",
    "    \n",
    "    if use_priority == True: \n",
    "        prio = calltime\n",
    "    else:\n",
    "        prio = 0\n",
    "        \n",
    "    with cc.employee.request(priority = prio) as request:\n",
    "        yield request\n",
    "\n",
    "        yield env.process(cc.service(name, calltime))\n",
    "        waiting_time = env.now - arrival_time\n",
    "\n",
    "\n",
    "        data.append(waiting_time)\n",
    "        \n",
    "        \n",
    "def setup(env, num_employees, arrival_rate):\n",
    "\n",
    "    callcenter = CallCenter(env, num_employees)\n",
    "\n",
    "\n",
    "    for i in range(4):\n",
    "        env.process(caller(env, 'Caller %d' % i, callcenter, data))\n",
    "\n",
    "\n",
    "    while True:\n",
    "        yield env.timeout(np.random.exponential(arrival_rate))\n",
    "        i += 1\n",
    "        env.process(caller(env, 'Caller %d' % i, callcenter, data))"
   ]
  },
  {
   "cell_type": "code",
   "execution_count": null,
   "metadata": {
    "collapsed": true
   },
   "outputs": [],
   "source": [
    "service_rate = 1/4\n",
    "arrival_rate = 1/3\n",
    "use_priority = False\n",
    "use_deterministic = False\n",
    "use_longtail = False\n",
    "data = []\n",
    "\n",
    "env = simpy.Environment()\n",
    "env.process(setup(env, 1, arrival_rate))\n",
    "\n",
    "env.run(until=1000)"
   ]
  },
  {
   "cell_type": "code",
   "execution_count": null,
   "metadata": {
    "collapsed": true
   },
   "outputs": [],
   "source": [
    "data = np.array(data)\n",
    "d = data\n",
    "#d.sort()\n",
    "plt.plot(d)\n",
    "plt.show()\n",
    "plt.hist(data, bins = 20)\n",
    "plt.show()\n",
    "W_bar = sum(data / len(data))\n",
    "W_bar"
   ]
  },
  {
   "cell_type": "markdown",
   "metadata": {},
   "source": [
    "<h1> Simulation M/M/1, rho = 0.5: BENCHMARK </h1>"
   ]
  },
  {
   "cell_type": "code",
   "execution_count": null,
   "metadata": {
    "collapsed": true
   },
   "outputs": [],
   "source": [
    "# We can try and figure out after what lenght of the markov chain we can consider the simulation results\n",
    "# not to be dependent on the initial conditions of the simulation. \n",
    "\n",
    "# I could initialise a Markov chain with two different sets of initial conditions. \n",
    "\n",
    "# First, lets pick an arbitrarily large number to run the simulation for. Since we need 100 samples of 100\n",
    "# simulations. \n",
    "\n",
    "# This is a simulation for M/M/1, rho = 0.5\n",
    "arrival_rate = 1/3\n",
    "service_rate = 1/6\n",
    "use_priority = False\n",
    "use_deterministic = False\n",
    "use_longtail = False\n",
    "data = []\n",
    "\n",
    "start = time.clock()\n",
    "env = simpy.Environment()\n",
    "env.process(setup(env, 1, arrival_rate))\n",
    "env.run(until=12000000)\n",
    "MM1_0_5 = data\n",
    "end = time.clock()\n",
    "print end - start"
   ]
  },
  {
   "cell_type": "markdown",
   "metadata": {},
   "source": [
    "<h1> Simulations for M/M/1, with rho between 0.9 and 0.99. </h1>"
   ]
  },
  {
   "cell_type": "code",
   "execution_count": null,
   "metadata": {
    "collapsed": true
   },
   "outputs": [],
   "source": [
    "# This is a simulation for M/M/1, rho = 0.9\n",
    "\n",
    "n = 1\n",
    "\n",
    "data = []\n",
    "arrival_rate = 1/0.9 * 1/n\n",
    "service_rate = 1\n",
    "use_priority = False\n",
    "use_deterministic = False\n",
    "use_longtail = False\n",
    "\n",
    "start = time.clock()\n",
    "env = simpy.Environment()\n",
    "env.process(setup(env, n, arrival_rate))\n",
    "env.run(until=12000000)\n",
    "MM1_0_9 = data\n",
    "end = time.clock()\n",
    "print end - start"
   ]
  },
  {
   "cell_type": "code",
   "execution_count": null,
   "metadata": {
    "collapsed": true
   },
   "outputs": [],
   "source": [
    "# This is a simulation for M/M/1, rho = 0.93\n",
    "\n",
    "n = 1\n",
    "\n",
    "data = []\n",
    "arrival_rate = 1/0.93 * 1/n\n",
    "service_rate = 1\n",
    "use_priority = False\n",
    "use_deterministic = False\n",
    "use_longtail = False\n",
    "\n",
    "start = time.clock()\n",
    "env = simpy.Environment()\n",
    "env.process(setup(env, n, arrival_rate))\n",
    "env.run(until=12000000)\n",
    "MM1_0_93 = data\n",
    "end = time.clock()\n",
    "print end - start"
   ]
  },
  {
   "cell_type": "code",
   "execution_count": null,
   "metadata": {
    "collapsed": true
   },
   "outputs": [],
   "source": [
    "# This is a simulation for M/M/1, rho = 0.96\n",
    "\n",
    "n = 1\n",
    "\n",
    "data = []\n",
    "arrival_rate = 1/0.96 * 1/n\n",
    "service_rate = 1\n",
    "use_priority = False\n",
    "use_deterministic = False\n",
    "use_longtail = False\n",
    "\n",
    "start = time.clock()\n",
    "env = simpy.Environment()\n",
    "env.process(setup(env, n, arrival_rate))\n",
    "env.run(until=12000000)\n",
    "MM1_0_96 = data\n",
    "end = time.clock()\n",
    "print end - start"
   ]
  },
  {
   "cell_type": "code",
   "execution_count": null,
   "metadata": {
    "collapsed": true
   },
   "outputs": [],
   "source": [
    "# This is a simulation for M/M/1, rho = 0.99\n",
    "\n",
    "n = 1\n",
    "\n",
    "data = []\n",
    "arrival_rate = 1/0.99 * 1/n\n",
    "service_rate = 1\n",
    "use_priority = False\n",
    "use_deterministic = False\n",
    "use_longtail = False\n",
    "\n",
    "start = time.clock()\n",
    "env = simpy.Environment()\n",
    "env.process(setup(env, n, arrival_rate))\n",
    "env.run(until=12000000)\n",
    "MM1_0_99 = data\n",
    "end = time.clock()\n",
    "print end - start"
   ]
  },
  {
   "cell_type": "markdown",
   "metadata": {},
   "source": [
    "<h1> Simulations for M/M/2 with rho between 0.9 and 0.99 </h1> "
   ]
  },
  {
   "cell_type": "code",
   "execution_count": null,
   "metadata": {
    "collapsed": true
   },
   "outputs": [],
   "source": [
    "# This is a simulation for M/M/2, rho = 0.9\n",
    "\n",
    "n = 2\n",
    "\n",
    "data = []\n",
    "arrival_rate = 1/0.9 * 1/n\n",
    "service_rate = 1\n",
    "use_priority = False\n",
    "use_deterministic = False\n",
    "use_longtail = False\n",
    "\n",
    "start = time.clock()\n",
    "env = simpy.Environment()\n",
    "env.process(setup(env, n, arrival_rate))\n",
    "env.run(until=12000000)\n",
    "MM2_0_9 = data\n",
    "end = time.clock()\n",
    "print end - start"
   ]
  },
  {
   "cell_type": "code",
   "execution_count": null,
   "metadata": {
    "collapsed": true
   },
   "outputs": [],
   "source": [
    "# This is a simulation for M/M/2, rho = 0.93\n",
    "\n",
    "n = 2\n",
    "\n",
    "data = []\n",
    "arrival_rate = 1/0.93 * 1/n\n",
    "service_rate = 1\n",
    "use_priority = False\n",
    "use_deterministic = False\n",
    "use_longtail = False\n",
    "\n",
    "start = time.clock()\n",
    "env = simpy.Environment()\n",
    "env.process(setup(env, n, arrival_rate))\n",
    "env.run(until=12000000)\n",
    "MM2_0_93 = data\n",
    "end = time.clock()\n",
    "print end - start"
   ]
  },
  {
   "cell_type": "code",
   "execution_count": null,
   "metadata": {
    "collapsed": true
   },
   "outputs": [],
   "source": [
    "# This is a simulation for M/M/2, rho = 0.96\n",
    "\n",
    "n = 2\n",
    "\n",
    "data = []\n",
    "arrival_rate = 1/0.96 * 1/n\n",
    "service_rate = 1\n",
    "use_priority = False\n",
    "use_deterministic = False\n",
    "use_longtail = False\n",
    "\n",
    "start = time.clock()\n",
    "env = simpy.Environment()\n",
    "env.process(setup(env, n, arrival_rate))\n",
    "env.run(until=12000000)\n",
    "MM2_0_96 = data\n",
    "end = time.clock()\n",
    "print end - start"
   ]
  },
  {
   "cell_type": "code",
   "execution_count": null,
   "metadata": {
    "collapsed": true
   },
   "outputs": [],
   "source": [
    "# This is a simulation for M/M/2, rho = 0.99\n",
    "\n",
    "n = 2\n",
    "\n",
    "data = []\n",
    "arrival_rate = 1/0.99 * 1/n\n",
    "service_rate = 1\n",
    "use_priority = False\n",
    "use_deterministic = False\n",
    "use_longtail = False\n",
    "\n",
    "start = time.clock()\n",
    "env = simpy.Environment()\n",
    "env.process(setup(env, n, arrival_rate))\n",
    "env.run(until=12000000)\n",
    "MM2_0_99 = data\n",
    "end = time.clock()\n",
    "print end - start"
   ]
  },
  {
   "cell_type": "markdown",
   "metadata": {},
   "source": [
    "<h1> Simulations for M/M/4 with rho between 0.9 and 0.99 </h1> "
   ]
  },
  {
   "cell_type": "code",
   "execution_count": null,
   "metadata": {
    "collapsed": true
   },
   "outputs": [],
   "source": [
    "# This is a simulation for M/M/4, rho = 0.9\n",
    "\n",
    "n = 4\n",
    "\n",
    "data = []\n",
    "arrival_rate = 1/0.9 * 1/n\n",
    "service_rate = 1\n",
    "use_priority = False\n",
    "use_deterministic = False\n",
    "use_longtail = False\n",
    "\n",
    "start = time.clock()\n",
    "env = simpy.Environment()\n",
    "env.process(setup(env, n, arrival_rate))\n",
    "env.run(until=12000000)\n",
    "MM4_0_9 = data\n",
    "end = time.clock()\n",
    "print end - start"
   ]
  },
  {
   "cell_type": "code",
   "execution_count": null,
   "metadata": {
    "collapsed": true
   },
   "outputs": [],
   "source": [
    "# This is a simulation for M/M/4, rho = 0.93\n",
    "\n",
    "n = 4\n",
    "\n",
    "data = []\n",
    "arrival_rate = 1/0.93 * 1/n\n",
    "service_rate = 1\n",
    "use_priority = False\n",
    "use_deterministic = False\n",
    "use_longtail = False\n",
    "\n",
    "start = time.clock()\n",
    "env = simpy.Environment()\n",
    "env.process(setup(env, n, arrival_rate))\n",
    "env.run(until=12000000)\n",
    "MM4_0_93 = data\n",
    "end = time.clock()\n",
    "print end - start"
   ]
  },
  {
   "cell_type": "code",
   "execution_count": null,
   "metadata": {
    "collapsed": true
   },
   "outputs": [],
   "source": [
    "# This is a simulation for M/M/4, rho = 0.96\n",
    "\n",
    "n = 4\n",
    "\n",
    "data = []\n",
    "arrival_rate = 1/0.96 * 1/n\n",
    "service_rate = 1\n",
    "use_priority = False\n",
    "use_deterministic = False\n",
    "use_longtail = False\n",
    "\n",
    "start = time.clock()\n",
    "env = simpy.Environment()\n",
    "env.process(setup(env, n, arrival_rate))\n",
    "env.run(until=12000000)\n",
    "MM4_0_96 = data\n",
    "end = time.clock()\n",
    "print end - start"
   ]
  },
  {
   "cell_type": "code",
   "execution_count": null,
   "metadata": {
    "collapsed": true
   },
   "outputs": [],
   "source": [
    "# This is a simulation for M/M/4, rho = 0.99\n",
    "\n",
    "n = 4\n",
    "\n",
    "data = []\n",
    "arrival_rate = 1/0.99 * 1/n\n",
    "service_rate = 1\n",
    "use_priority = False\n",
    "use_deterministic = False\n",
    "use_longtail = False\n",
    "\n",
    "start = time.clock()\n",
    "env = simpy.Environment()\n",
    "env.process(setup(env, n, arrival_rate))\n",
    "env.run(until=12000000)\n",
    "MM4_0_99 = data\n",
    "end = time.clock()\n",
    "print end - start"
   ]
  },
  {
   "cell_type": "markdown",
   "metadata": {},
   "source": [
    "<h1> Simulations for M/M/1, with priority </h1>"
   ]
  },
  {
   "cell_type": "code",
   "execution_count": null,
   "metadata": {
    "collapsed": true
   },
   "outputs": [],
   "source": [
    "# This is a simulation for M/M/1, rho = 0.9\n",
    "\n",
    "n = 1\n",
    "\n",
    "data = []\n",
    "arrival_rate = 1/0.9 * 1/n\n",
    "service_rate = 1\n",
    "use_priority = True\n",
    "use_deterministic = False\n",
    "use_longtail = False\n",
    "\n",
    "start = time.clock()\n",
    "env = simpy.Environment()\n",
    "env.process(setup(env, n, arrival_rate))\n",
    "env.run(until=12000000)\n",
    "MM1p_0_9 = data\n",
    "end = time.clock()\n",
    "print end - start"
   ]
  },
  {
   "cell_type": "code",
   "execution_count": null,
   "metadata": {
    "collapsed": true
   },
   "outputs": [],
   "source": [
    "# This is a simulation for M/M/1, rho = 0.93\n",
    "\n",
    "n = 1\n",
    "\n",
    "data = []\n",
    "arrival_rate = 1/0.93 * 1/n\n",
    "service_rate = 1\n",
    "use_priority = True\n",
    "use_deterministic = False\n",
    "use_longtail = False\n",
    "\n",
    "start = time.clock()\n",
    "env = simpy.Environment()\n",
    "env.process(setup(env, n, arrival_rate))\n",
    "env.run(until=12000000)\n",
    "MM1p_0_93 = data\n",
    "end = time.clock()\n",
    "print end - start"
   ]
  },
  {
   "cell_type": "code",
   "execution_count": null,
   "metadata": {
    "collapsed": true
   },
   "outputs": [],
   "source": [
    "# This is a simulation for M/M/1, rho = 0.96\n",
    "\n",
    "n = 1\n",
    "\n",
    "data = []\n",
    "arrival_rate = 1/0.96 * 1/n\n",
    "service_rate = 1\n",
    "use_priority = True\n",
    "use_deterministic = False\n",
    "use_longtail = False\n",
    "\n",
    "start = time.clock()\n",
    "env = simpy.Environment()\n",
    "env.process(setup(env, n, arrival_rate))\n",
    "env.run(until=12000000)\n",
    "MM1p_0_96 = data\n",
    "end = time.clock()\n",
    "print end - start"
   ]
  },
  {
   "cell_type": "code",
   "execution_count": null,
   "metadata": {
    "collapsed": true
   },
   "outputs": [],
   "source": [
    "# This is a simulation for M/M/1, rho = 0.99\n",
    "\n",
    "n = 1\n",
    "\n",
    "data = []\n",
    "arrival_rate = 1/0.99 * 1/n\n",
    "service_rate = 1\n",
    "use_priority = True\n",
    "use_deterministic = False\n",
    "use_longtail = False\n",
    "\n",
    "start = time.clock()\n",
    "env = simpy.Environment()\n",
    "env.process(setup(env, n, arrival_rate))\n",
    "env.run(until=12000000)\n",
    "MM1p_0_99 = data\n",
    "end = time.clock()\n",
    "print end - start"
   ]
  },
  {
   "cell_type": "markdown",
   "metadata": {},
   "source": [
    "<h1> Simulations M/D/1, rho between 0.9 and 0.99. </h1>"
   ]
  },
  {
   "cell_type": "code",
   "execution_count": null,
   "metadata": {
    "collapsed": true
   },
   "outputs": [],
   "source": [
    "# This is a simulation for M/D/1, rho = 0.9\n",
    "\n",
    "n = 1\n",
    "\n",
    "data = []\n",
    "arrival_rate = 1/0.9 * 1/n\n",
    "service_rate = 1\n",
    "use_priority = False\n",
    "use_deterministic = True\n",
    "use_longtail = False\n",
    "\n",
    "start = time.clock()\n",
    "env = simpy.Environment()\n",
    "env.process(setup(env, n, arrival_rate))\n",
    "env.run(until=12000000)\n",
    "MD1_0_9 = data\n",
    "end = time.clock()\n",
    "print end - start"
   ]
  },
  {
   "cell_type": "code",
   "execution_count": null,
   "metadata": {
    "collapsed": true
   },
   "outputs": [],
   "source": [
    "# This is a simulation for M/D/1, rho = 0.93\n",
    "\n",
    "n = 1\n",
    "\n",
    "data = []\n",
    "arrival_rate = 1/0.93 * 1/n\n",
    "service_rate = 1\n",
    "use_priority = False\n",
    "use_deterministic = True\n",
    "use_longtail = False\n",
    "\n",
    "start = time.clock()\n",
    "env = simpy.Environment()\n",
    "env.process(setup(env, n, arrival_rate))\n",
    "env.run(until=12000000)\n",
    "MD1_0_93 = data\n",
    "end = time.clock()\n",
    "print end - start"
   ]
  },
  {
   "cell_type": "code",
   "execution_count": null,
   "metadata": {
    "collapsed": true
   },
   "outputs": [],
   "source": [
    "# This is a simulation for M/D/1, rho = 0.96\n",
    "\n",
    "n = 1\n",
    "\n",
    "data = []\n",
    "arrival_rate = 1/0.96 * 1/n\n",
    "service_rate = 1\n",
    "use_priority = False\n",
    "use_deterministic = True\n",
    "use_longtail = False\n",
    "\n",
    "start = time.clock()\n",
    "env = simpy.Environment()\n",
    "env.process(setup(env, n, arrival_rate))\n",
    "env.run(until=12000000)\n",
    "MD1_0_96 = data\n",
    "end = time.clock()\n",
    "print end - start"
   ]
  },
  {
   "cell_type": "code",
   "execution_count": null,
   "metadata": {
    "collapsed": true
   },
   "outputs": [],
   "source": [
    "# This is a simulation for M/D/1, rho = 0.99\n",
    "\n",
    "n = 1\n",
    "\n",
    "data = []\n",
    "arrival_rate = 1/0.99 * 1/n\n",
    "service_rate = 1\n",
    "use_priority = False\n",
    "use_deterministic = True\n",
    "use_longtail = False\n",
    "\n",
    "start = time.clock()\n",
    "env = simpy.Environment()\n",
    "env.process(setup(env, n, arrival_rate))\n",
    "env.run(until=12000000)\n",
    "MD1_0_99 = data\n",
    "end = time.clock()\n",
    "print end - start"
   ]
  },
  {
   "cell_type": "markdown",
   "metadata": {},
   "source": [
    "<h1> Simulations M/D/2, rho between 0.9 and 0.99. </h1>"
   ]
  },
  {
   "cell_type": "code",
   "execution_count": null,
   "metadata": {
    "collapsed": true
   },
   "outputs": [],
   "source": [
    "# This is a simulation for M/D/2, rho = 0.9\n",
    "\n",
    "n = 2\n",
    "\n",
    "data = []\n",
    "arrival_rate = 1/0.9 * 1/n\n",
    "service_rate = 1\n",
    "use_priority = False\n",
    "use_deterministic = True\n",
    "use_longtail = False\n",
    "\n",
    "start = time.clock()\n",
    "env = simpy.Environment()\n",
    "env.process(setup(env, n, arrival_rate))\n",
    "env.run(until=12000000)\n",
    "MD2_0_9 = data\n",
    "end = time.clock()\n",
    "print end - start"
   ]
  },
  {
   "cell_type": "code",
   "execution_count": null,
   "metadata": {
    "collapsed": true
   },
   "outputs": [],
   "source": [
    "# This is a simulation for M/D/2, rho = 0.93\n",
    "\n",
    "n = 2\n",
    "\n",
    "data = []\n",
    "arrival_rate = 1/0.93 * 1/n\n",
    "service_rate = 1\n",
    "use_priority = False\n",
    "use_deterministic = True\n",
    "use_longtail = False\n",
    "\n",
    "start = time.clock()\n",
    "env = simpy.Environment()\n",
    "env.process(setup(env, n, arrival_rate))\n",
    "env.run(until=12000000)\n",
    "MD2_0_93 = data\n",
    "end = time.clock()\n",
    "print end - start"
   ]
  },
  {
   "cell_type": "code",
   "execution_count": null,
   "metadata": {
    "collapsed": true
   },
   "outputs": [],
   "source": [
    "# This is a simulation for M/D/2, rho = 0.96\n",
    "\n",
    "n = 2\n",
    "\n",
    "data = []\n",
    "arrival_rate = 1/0.96 * 1/n\n",
    "service_rate = 1\n",
    "use_priority = False\n",
    "use_deterministic = True\n",
    "use_longtail = False\n",
    "\n",
    "start = time.clock()\n",
    "env = simpy.Environment()\n",
    "env.process(setup(env, n, arrival_rate))\n",
    "env.run(until=12000000)\n",
    "MD2_0_96 = data\n",
    "end = time.clock()\n",
    "print end - start"
   ]
  },
  {
   "cell_type": "code",
   "execution_count": null,
   "metadata": {
    "collapsed": true
   },
   "outputs": [],
   "source": [
    "# This is a simulation for M/D/2, rho = 0.99\n",
    "\n",
    "n = 2\n",
    "\n",
    "data = []\n",
    "arrival_rate = 1/0.99 * 1/n\n",
    "service_rate = 1\n",
    "use_priority = False\n",
    "use_deterministic = True\n",
    "use_longtail = False\n",
    "\n",
    "start = time.clock()\n",
    "env = simpy.Environment()\n",
    "env.process(setup(env, n, arrival_rate))\n",
    "env.run(until=12000000)\n",
    "MD2_0_99 = data\n",
    "end = time.clock()\n",
    "print end - start"
   ]
  },
  {
   "cell_type": "markdown",
   "metadata": {},
   "source": [
    "<h1> Simulations M/D/4, rho between 0.9 and 0.99. </h1>"
   ]
  },
  {
   "cell_type": "code",
   "execution_count": null,
   "metadata": {
    "collapsed": true
   },
   "outputs": [],
   "source": [
    "# This is a simulation for M/D/4, rho = 0.9\n",
    "\n",
    "n = 4\n",
    "\n",
    "data = []\n",
    "arrival_rate = 1/0.9 * 1/n\n",
    "service_rate = 1\n",
    "use_priority = False\n",
    "use_deterministic = True\n",
    "use_longtail = False\n",
    "\n",
    "start = time.clock()\n",
    "env = simpy.Environment()\n",
    "env.process(setup(env, n, arrival_rate))\n",
    "env.run(until=12000000)\n",
    "MD4_0_9 = data\n",
    "end = time.clock()\n",
    "print end - start"
   ]
  },
  {
   "cell_type": "code",
   "execution_count": null,
   "metadata": {
    "collapsed": true
   },
   "outputs": [],
   "source": [
    "# This is a simulation for M/D/4, rho = 0.93\n",
    "\n",
    "n = 4\n",
    "\n",
    "data = []\n",
    "arrival_rate = 1/0.93 * 1/n\n",
    "service_rate = 1\n",
    "use_priority = False\n",
    "use_deterministic = True\n",
    "use_longtail = False\n",
    "\n",
    "start = time.clock()\n",
    "env = simpy.Environment()\n",
    "env.process(setup(env, n, arrival_rate))\n",
    "env.run(until=12000000)\n",
    "MD4_0_93 = data\n",
    "end = time.clock()\n",
    "print end - start"
   ]
  },
  {
   "cell_type": "code",
   "execution_count": null,
   "metadata": {
    "collapsed": true
   },
   "outputs": [],
   "source": [
    "# This is a simulation for M/D/4, rho = 0.96\n",
    "\n",
    "n = 4\n",
    "\n",
    "data = []\n",
    "arrival_rate = 1/0.96 * 1/n\n",
    "service_rate = 1\n",
    "use_priority = False\n",
    "use_deterministic = True\n",
    "use_longtail = False\n",
    "\n",
    "start = time.clock()\n",
    "env = simpy.Environment()\n",
    "env.process(setup(env, n, arrival_rate))\n",
    "env.run(until=12000000)\n",
    "MD4_0_96 = data\n",
    "end = time.clock()\n",
    "print end - start"
   ]
  },
  {
   "cell_type": "code",
   "execution_count": null,
   "metadata": {
    "collapsed": true
   },
   "outputs": [],
   "source": [
    "# This is a simulation for M/D/4, rho = 0.99\n",
    "\n",
    "n = 4\n",
    "\n",
    "data = []\n",
    "arrival_rate = 1/0.99 * 1/n\n",
    "service_rate = 1\n",
    "use_priority = False\n",
    "use_deterministic = True\n",
    "use_longtail = False\n",
    "\n",
    "start = time.clock()\n",
    "env = simpy.Environment()\n",
    "env.process(setup(env, n, arrival_rate))\n",
    "env.run(until=12000000)\n",
    "MD4_0_99 = data\n",
    "end = time.clock()\n",
    "print end - start"
   ]
  },
  {
   "cell_type": "markdown",
   "metadata": {},
   "source": [
    "<h1> Simulations M/LT/1, rho between 0.9 and 0.99. </h1>"
   ]
  },
  {
   "cell_type": "code",
   "execution_count": 3,
   "metadata": {},
   "outputs": [
    {
     "name": "stdout",
     "output_type": "stream",
     "text": [
      "895.768663\n"
     ]
    }
   ],
   "source": [
    "# This is a simulation for M/LT/1, rho = 0.9\n",
    "\n",
    "n = 1\n",
    "\n",
    "data = []\n",
    "arrival_rate = 1/0.9 * 1/n\n",
    "service_rate = 1\n",
    "use_priority = False\n",
    "use_deterministic = False\n",
    "use_longtail = True\n",
    "\n",
    "start = time.clock()\n",
    "env = simpy.Environment()\n",
    "env.process(setup(env, n, arrival_rate))\n",
    "env.run(until=100000)\n",
    "MLT1_0_9 = data\n",
    "end = time.clock()\n",
    "print end - start"
   ]
  },
  {
   "cell_type": "code",
   "execution_count": 4,
   "metadata": {},
   "outputs": [
    {
     "name": "stdout",
     "output_type": "stream",
     "text": [
      "49880\n"
     ]
    }
   ],
   "source": [
    "print len(MLT1_0_9)"
   ]
  },
  {
   "cell_type": "code",
   "execution_count": null,
   "metadata": {
    "collapsed": true
   },
   "outputs": [],
   "source": [
    "# This is a simulation for M/LT/1, rho = 0.93\n",
    "\n",
    "n = 1\n",
    "\n",
    "data = []\n",
    "arrival_rate = 1/0.93 * 1/n\n",
    "service_rate = 1\n",
    "use_priority = False\n",
    "use_deterministic = False\n",
    "use_longtail = True\n",
    "\n",
    "start = time.clock()\n",
    "env = simpy.Environment()\n",
    "env.process(setup(env, n, arrival_rate))\n",
    "env.run(until=650000)\n",
    "MLT1_0_93 = data\n",
    "end = time.clock()\n",
    "print end - start"
   ]
  },
  {
   "cell_type": "code",
   "execution_count": null,
   "metadata": {
    "collapsed": true
   },
   "outputs": [],
   "source": [
    "# This is a simulation for M/LT/1, rho = 0.96\n",
    "\n",
    "n = 1\n",
    "\n",
    "data = []\n",
    "arrival_rate = 1/0.96 * 1/n\n",
    "service_rate = 1\n",
    "use_priority = False\n",
    "use_deterministic = False\n",
    "use_longtail = True\n",
    "\n",
    "start = time.clock()\n",
    "env = simpy.Environment()\n",
    "env.process(setup(env, n, arrival_rate))\n",
    "env.run(until=650000)\n",
    "MLT1_0_96 = data\n",
    "end = time.clock()\n",
    "print end - start"
   ]
  },
  {
   "cell_type": "code",
   "execution_count": null,
   "metadata": {
    "collapsed": true
   },
   "outputs": [],
   "source": [
    "# This is a simulation for M/LT/1, rho = 0.99\n",
    "\n",
    "n = 1\n",
    "\n",
    "data = []\n",
    "arrival_rate = 1/0.99 * 1/n\n",
    "service_rate = 1\n",
    "use_priority = False\n",
    "use_deterministic = False\n",
    "use_longtail = True\n",
    "\n",
    "start = time.clock()\n",
    "env = simpy.Environment()\n",
    "env.process(setup(env, n, arrival_rate))\n",
    "env.run(until=650000)\n",
    "MLT1_0_99 = data\n",
    "end = time.clock()\n",
    "print end - start"
   ]
  },
  {
   "cell_type": "markdown",
   "metadata": {},
   "source": [
    "<h1> Analysis of Simulation Results </h1>"
   ]
  },
  {
   "cell_type": "markdown",
   "metadata": {},
   "source": [
    "<p> To analyse the results we want to separate the 12 million time steps into equal portions of customers. The length of the data array will be the number of data points contained within the array, which will also be the number of customers that have been through the system. Lets start by figuring out how many data points we have in our benchmark test. </p>  \n"
   ]
  },
  {
   "cell_type": "code",
   "execution_count": null,
   "metadata": {
    "collapsed": true
   },
   "outputs": [],
   "source": [
    "print len(MM1_0_5)"
   ]
  },
  {
   "cell_type": "markdown",
   "metadata": {},
   "source": [
    "<p> Our benchmark test has 36 million datapoints!!! </p> "
   ]
  },
  {
   "cell_type": "code",
   "execution_count": null,
   "metadata": {
    "collapsed": true
   },
   "outputs": [],
   "source": [
    "print len(MM1_0_9)"
   ]
  },
  {
   "cell_type": "code",
   "execution_count": null,
   "metadata": {
    "collapsed": true
   },
   "outputs": [],
   "source": [
    "print len(MM1_0_96)"
   ]
  },
  {
   "cell_type": "markdown",
   "metadata": {},
   "source": [
    "<p> So it seems like the lenghts of the arrays differ significantly. We should pick a number of customers that we would like to test our Markov Chain for, that can be reliably tested for in all scenarios. It should be possible to do it for 100 thousand customers, as long as all simulations are at least above 10.5 million datapoints. </p> "
   ]
  },
  {
   "cell_type": "code",
   "execution_count": null,
   "metadata": {
    "collapsed": true
   },
   "outputs": [],
   "source": [
    "print np.mean(MM1_0_5)"
   ]
  },
  {
   "cell_type": "code",
   "execution_count": 7,
   "metadata": {
    "collapsed": true
   },
   "outputs": [],
   "source": [
    "# Lets first write a function that will find the datapoints that we will use in our analyses.\n",
    "\n",
    "def DivideandConquer(data, sample_size):\n",
    "    bounds = []\n",
    "    length = len(data)\n",
    "    lb = 300\n",
    "    \n",
    "    for x in range(100):\n",
    "        space = random.randint(0, 10)\n",
    "        lb += space\n",
    "        ub = lb + sample_size\n",
    "        bounds.append([lb, ub])\n",
    "        lb = ub\n",
    "        if lb > length:\n",
    "            return(\"Exceeded Data Lenght\", bounds)\n",
    "    \n",
    "    # Now we can use the bounds to parse the data and calculate means and standard deviations of our batches.\n",
    "\n",
    "    bounds = np.array(bounds)\n",
    "    means = []\n",
    "    \n",
    "    for i in range(len(bounds)):\n",
    "        mean = np.mean(data[bounds[i, 0]:bounds[i, 1]])\n",
    "        means.append(mean)\n",
    "    \n",
    "    batch_mean = np.mean(means)\n",
    "    batch_std = np.std(means)\n",
    "    \n",
    "    tstatistic, pvalue = scipy.stats.mstats.normaltest(means)\n",
    "    \n",
    "    if pvalue <= 0.05:\n",
    "        uncertainty = 1.96 * batch_std / math.sqrt(sample_size)\n",
    "        confidence_int_lb = batch_mean - uncertainty\n",
    "        confidence_int_ub = batch_mean + uncertainty\n",
    "    else:\n",
    "        print \"Data is not normally distributed\"\n",
    "        confidence_int_lb = \"na\"\n",
    "        confidence_int_ub = \"na\"\n",
    "        \n",
    "    return batch_mean, confidence_int_lb, confidence_int_ub, batch_std"
   ]
  },
  {
   "cell_type": "code",
   "execution_count": null,
   "metadata": {
    "collapsed": true
   },
   "outputs": [],
   "source": [
    "def CreateTable(data1, data2, data3, data4, sample_size):\n",
    "    a, b, c, d = DivideandConquer(data1, sample_size)\n",
    "    f, g, h, i = DivideandConquer(data2, sample_size)\n",
    "    k, l, m, n = DivideandConquer(data3, sample_size)\n",
    "    p, q, r, s = DivideandConquer(data4, sample_size)\n",
    "    \n",
    "    Table = [[a, b, c, d], [f, g, h, i], [k, l, m, n], \n",
    "             [p, q, r, s]]\n",
    "    Table = pd.DataFrame(data = Table, columns = ['Mean', 'Lower Bound', 'Upper Bound', \n",
    "                                                  'Standard Deviation'])\n",
    "    print Table.to_latex()\n",
    "    return(Table)"
   ]
  },
  {
   "cell_type": "markdown",
   "metadata": {},
   "source": [
    "<h2> Simulation Results for MM1 </h2>"
   ]
  },
  {
   "cell_type": "code",
   "execution_count": null,
   "metadata": {
    "collapsed": true
   },
   "outputs": [],
   "source": [
    "MM1 = CreateTable(MM1_0_9, MM1_0_93, MM1_0_96, MM1_0_99)"
   ]
  },
  {
   "cell_type": "markdown",
   "metadata": {},
   "source": [
    "<h2> Simulation Results for MM2 </h2>"
   ]
  },
  {
   "cell_type": "code",
   "execution_count": null,
   "metadata": {
    "collapsed": true
   },
   "outputs": [],
   "source": [
    "MM2 = CreateTable(MM2_0_9, MM2_0_93, MM2_0_96, MM2_0_99)"
   ]
  },
  {
   "cell_type": "markdown",
   "metadata": {},
   "source": [
    "<h2> Simulation Results for MM4 </h2>"
   ]
  },
  {
   "cell_type": "code",
   "execution_count": null,
   "metadata": {
    "collapsed": true
   },
   "outputs": [],
   "source": [
    "MM4 = CreateTable(MM4_0_9, MM4_0_93, MM4_0_96, MM4_0_99)"
   ]
  },
  {
   "cell_type": "markdown",
   "metadata": {},
   "source": [
    "<h2> Simulation Results for MM1 with priority </h2>"
   ]
  },
  {
   "cell_type": "code",
   "execution_count": null,
   "metadata": {
    "collapsed": true
   },
   "outputs": [],
   "source": [
    "MM1p = CreateTable(MM1p_0_9, MM1p_0_93, MM1p_0_96, MM1p_0_99)"
   ]
  },
  {
   "cell_type": "markdown",
   "metadata": {},
   "source": [
    "<h2> Simulation Results for MD1 </h2>"
   ]
  },
  {
   "cell_type": "code",
   "execution_count": null,
   "metadata": {
    "collapsed": true
   },
   "outputs": [],
   "source": [
    "MD1 = CreateTable(MD1_0_9, MD1_0_93, MD1_0_96, MD1_0_99)"
   ]
  },
  {
   "cell_type": "markdown",
   "metadata": {},
   "source": [
    "<h2> Simulation Results for MD2 </h2>"
   ]
  },
  {
   "cell_type": "code",
   "execution_count": null,
   "metadata": {
    "collapsed": true
   },
   "outputs": [],
   "source": [
    "MD2 = CreateTable(MD2_0_9, MD2_0_93, MD2_0_96, MD2_0_99)"
   ]
  },
  {
   "cell_type": "markdown",
   "metadata": {
    "collapsed": true
   },
   "source": [
    "<h2> Simulation Results for MD4 </h2>"
   ]
  },
  {
   "cell_type": "code",
   "execution_count": null,
   "metadata": {
    "collapsed": true
   },
   "outputs": [],
   "source": [
    "MD4 = CreateTable(MD4_0_9, MD4_0_93, MD4_0_96, MD4_0_99, 50000)"
   ]
  },
  {
   "cell_type": "markdown",
   "metadata": {},
   "source": [
    "<h2> Simulation Results for MLT1 </h2>"
   ]
  },
  {
   "cell_type": "code",
   "execution_count": 11,
   "metadata": {},
   "outputs": [
    {
     "name": "stdout",
     "output_type": "stream",
     "text": [
      "5073.7135748 4528.09775667 5619.32939293 2783.75417413\n"
     ]
    }
   ],
   "source": [
    "a, b, c, d = DivideandConquer(MLT1_0_9, 100)\n",
    "print a, b, c, d"
   ]
  },
  {
   "cell_type": "code",
   "execution_count": null,
   "metadata": {
    "collapsed": true
   },
   "outputs": [],
   "source": []
  }
 ],
 "metadata": {
  "kernelspec": {
   "display_name": "Python 2",
   "language": "python",
   "name": "python2"
  },
  "language_info": {
   "codemirror_mode": {
    "name": "ipython",
    "version": 2
   },
   "file_extension": ".py",
   "mimetype": "text/x-python",
   "name": "python",
   "nbconvert_exporter": "python",
   "pygments_lexer": "ipython2",
   "version": "2.7.13"
  }
 },
 "nbformat": 4,
 "nbformat_minor": 2
}
